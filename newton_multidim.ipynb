{
 "cells": [
  {
   "cell_type": "markdown",
   "metadata": {},
   "source": [
    "# Modelación y Simulación 2024\n",
    "\n",
    "Implementar en Python una función para hallar los ceros de una funcién diferenciable \n",
    "\n",
    "$$\n",
    "F: R^{n} → R^{n} \n",
    "$$\n",
    "usando el método de Newton multidimensional. Aquí:\n",
    "$$\n",
    "x =\n",
    "\\begin{pmatrix}\n",
    "x_1 \\\\\n",
    "x_2 \\\\\n",
    "\\vdots \\\\\n",
    "x_n\n",
    "\\end{pmatrix}\n",
    "$$\n",
    "$$\n",
    "F(x) =\n",
    "\\begin{pmatrix}\n",
    "f_1(x_1, x_2, \\ldots, x_n) \\\\\n",
    "f_2(x_1, x_2, \\ldots, x_n) \\\\\n",
    "\\vdots \\\\\n",
    "f_n(x_1, x_2, \\ldots, x_n)\n",
    "\\end{pmatrix}\n",
    "$$\n"
   ]
  },
  {
   "cell_type": "code",
   "execution_count": 12,
   "metadata": {},
   "outputs": [],
   "source": [
    "import numpy as np"
   ]
  },
  {
   "cell_type": "code",
   "execution_count": 13,
   "metadata": {},
   "outputs": [],
   "source": [
    "def newton_multidimensional(F, J, x0, maxIter=100, tol=1e-7):\n",
    "    x = x0\n",
    "    iter_count = 0\n",
    "    approximations = [x0]\n",
    "    \n",
    "    for _ in range(maxIter):\n",
    "        iter_count += 1\n",
    "        Fx = F(x)\n",
    "        Jx = J(x)\n",
    "        delta_x = np.linalg.solve(Jx, -Fx)\n",
    "        x = x + delta_x\n",
    "        approximations.append(x)\n",
    "        \n",
    "        if np.linalg.norm(delta_x, ord=2) < tol:\n",
    "            break\n",
    "    \n",
    "    return approximations, x\n"
   ]
  },
  {
   "cell_type": "code",
   "execution_count": 14,
   "metadata": {},
   "outputs": [],
   "source": [
    "def F(variables):\n",
    "    x, y, z = variables\n",
    "    \n",
    "    f1 = 3*x - np.cos(y*z) - 1/2\n",
    "    f2 = x**2 - 81*(y+0.1)**2 + np.sin(z) + 1.06\n",
    "    f3 = np.exp(-x*y) + 20*z + (10*np.pi - 3)/3\n",
    "\n",
    "    return np.array([f1, f2, f3])\n"
   ]
  },
  {
   "cell_type": "markdown",
   "metadata": {},
   "source": [
    "Para el jacobiano, se tiene que derivar a mano en este caso las derivadas son:\n",
    "\n",
    "- Derivadas con respecto a x:\n",
    "$$\n",
    "\\frac{ dx}{d}3x - cos(yz) - \\frac{1}{2} = 3\n",
    "$$\n",
    "$$\n",
    "\\frac{ dx}{d}x^{2} - 81(y+0.1)^2 + sin(z) = 2x\n",
    "$$\n",
    "$$\n",
    "\\frac{ dx}{d}e^{-xy} + 20z + \\frac{10\\pi -3}{3} = -ye^{-xy}\n",
    "$$\n",
    "\n",
    "- Derivadas con respecto a y:\n",
    "$$\n",
    "\\frac{ dy}{d}3x - cos(yz) - \\frac{1}{2} = zsin(yz)\n",
    "$$\n",
    "$$\n",
    "\\frac{ dy}{d}x^{2} - 81(y+0.1)^2 + sin(z) = -162*(y+0.1)\n",
    "$$\n",
    "$$\n",
    "\\frac{ dy}{d}e^{-xy} + 20z + \\frac{10\\pi -3}{3} = -xe^{-xy}\n",
    "$$\n",
    "\n",
    "\n",
    "- Derivadas con respecto a z:\n",
    "$$\n",
    "\\frac{ dz}{d}3x - cos(yz) - \\frac{1}{2} = ysin(yz)\n",
    "$$\n",
    "$$\n",
    "\\frac{ dz}{d}x^{2} - 81(y+0.1)^2 + sin(z) = cos(z)\n",
    "$$\n",
    "$$\n",
    "\\frac{ dz}{d}e^{-xy} + 20z + \\frac{10\\pi -3}{3} = 20\n",
    "$$\n",
    "\n",
    "\n",
    "\n"
   ]
  },
  {
   "cell_type": "code",
   "execution_count": 15,
   "metadata": {},
   "outputs": [],
   "source": [
    "def J(x):\n",
    "    j11 = 3\n",
    "    j12 = x[2] * np.sin(x[1] * x[2])\n",
    "    j13 = x[1] * np.sin(x[1] * x[2])\n",
    "    \n",
    "    j21 = 2 * x[0]\n",
    "    j22 = -162 * (x[1] + 0.1)\n",
    "    j23 = np.cos(x[2])\n",
    "    \n",
    "    j31 = -x[1] * np.exp(-x[0] * x[1])\n",
    "    j32 = -x[0] * np.exp(-x[0] * x[1])\n",
    "    j33 = 20\n",
    "    \n",
    "    return np.array([\n",
    "        [j11, j12, j13],\n",
    "        [j21, j22, j23],\n",
    "        [j31, j32, j33]\n",
    "    ])"
   ]
  },
  {
   "cell_type": "markdown",
   "metadata": {},
   "source": [
    "Se realiza la prueba de la función"
   ]
  },
  {
   "cell_type": "code",
   "execution_count": 17,
   "metadata": {},
   "outputs": [
    {
     "name": "stdout",
     "output_type": "stream",
     "text": [
      "Iteración 0: [0.1 0.1 0.1]\n",
      "Iteración 1: [ 0.50021734  0.01948961 -0.52151864]\n",
      "Iteración 2: [ 0.50001427  0.00159199 -0.52355718]\n",
      "Iteración 3: [ 5.00000114e-01  1.24976608e-05 -5.23598449e-01]\n",
      "Iteración 4: [ 5.00000000e-01  7.82391902e-10 -5.23598776e-01]\n",
      "Iteración 5: [ 5.00000000e-01  6.89057012e-18 -5.23598776e-01]\n",
      "El punto x* donde F(x*) = 0 es: [ 5.00000000e-01  6.89057012e-18 -5.23598776e-01]\n"
     ]
    }
   ],
   "source": [
    "# Parámetros iniciales\n",
    "x0 = np.array([0.1, 0.1, 0.1])\n",
    "maxIter = 1000\n",
    "tol = 1e-7\n",
    "\n",
    "# Ejecutar el método de Newton multidimensional\n",
    "approximations, x_star = newton_multidimensional(F, J, x0, maxIter, tol)\n",
    "\n",
    "# Imprimir las iteraciones y el resultado final\n",
    "for i, approx in enumerate(approximations):\n",
    "    print(f\"Iteración {i}: {approx}\")\n",
    "\n",
    "print(f\"El punto x* donde F(x*) = 0 es: {x_star}\")"
   ]
  },
  {
   "cell_type": "markdown",
   "metadata": {},
   "source": [
    "Se comprueba con esos valores y correctamente obtenemos valores muy cercanos a 0."
   ]
  },
  {
   "cell_type": "code",
   "execution_count": 18,
   "metadata": {},
   "outputs": [
    {
     "name": "stdout",
     "output_type": "stream",
     "text": [
      "Evaluación de F en x*: [ 0.00000000e+00  0.00000000e+00 -1.77635684e-15]\n"
     ]
    }
   ],
   "source": [
    "F_at_x_star = F(x_star)\n",
    "print(f\"Evaluación de F en x*: {F_at_x_star}\")"
   ]
  }
 ],
 "metadata": {
  "kernelspec": {
   "display_name": ".venv",
   "language": "python",
   "name": "python3"
  },
  "language_info": {
   "codemirror_mode": {
    "name": "ipython",
    "version": 3
   },
   "file_extension": ".py",
   "mimetype": "text/x-python",
   "name": "python",
   "nbconvert_exporter": "python",
   "pygments_lexer": "ipython3",
   "version": "3.12.0"
  }
 },
 "nbformat": 4,
 "nbformat_minor": 2
}
